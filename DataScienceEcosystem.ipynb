{
 "cells": [
  {
   "cell_type": "markdown",
   "id": "68840921",
   "metadata": {},
   "source": [
    "# Data Science tools and Ecosystem"
   ]
  },
  {
   "cell_type": "markdown",
   "id": "284f9266",
   "metadata": {},
   "source": [
    "In this notebook, Data Science Tools and Ecosystem are summarized."
   ]
  },
  {
   "cell_type": "markdown",
   "id": "4134291b",
   "metadata": {},
   "source": [
    "**Objective:**\n",
    "- List popular languages for Data Science\n",
    "- Some commonly used libraries for Data Science\n",
    "- List Data Science Tools\n",
    "- To evaluate arithmetic expression"
   ]
  },
  {
   "cell_type": "markdown",
   "id": "621f2fa1",
   "metadata": {},
   "source": [
    "Some of the popular languages that Data Scientists use are:\n",
    "1. Python\n",
    "2. R\n",
    "3. SQL \n",
    "4. Java\n",
    "5. Javascript\n"
   ]
  },
  {
   "cell_type": "markdown",
   "id": "e0143e93",
   "metadata": {},
   "source": [
    "Some of the commonly used libraries used by Data Scientists include:\n",
    "1. Numpy\n",
    "2. Pandas\n",
    "3. Matplotlib\n",
    "4. Scikit-learn\n",
    "5. Scrapy\n"
   ]
  },
  {
   "cell_type": "markdown",
   "id": "3a6822c4",
   "metadata": {},
   "source": [
    "|Data science Tools|\n",
    "|-----------------|\n",
    "|Apache Spark|\n",
    "|Tensorflow|\n",
    "|Rstudio|"
   ]
  },
  {
   "cell_type": "markdown",
   "id": "90b6602f",
   "metadata": {},
   "source": [
    "### Below are a few examples of evaluating arithmetic expressions in Python"
   ]
  },
  {
   "cell_type": "code",
   "execution_count": 1,
   "id": "c7370039",
   "metadata": {},
   "outputs": [
    {
     "data": {
      "text/plain": [
       "17"
      ]
     },
     "execution_count": 1,
     "metadata": {},
     "output_type": "execute_result"
    }
   ],
   "source": [
    "#This a simple arithmetic expression to mutiply then add integers\n",
    "\n",
    "(3*4)+5"
   ]
  },
  {
   "cell_type": "code",
   "execution_count": 2,
   "id": "47c725ca",
   "metadata": {},
   "outputs": [
    {
     "data": {
      "text/plain": [
       "3.3333333333333335"
      ]
     },
     "execution_count": 2,
     "metadata": {},
     "output_type": "execute_result"
    }
   ],
   "source": [
    "#This will convert 200 minutes to hours by diving by 60\n",
    "\n",
    "minutes=200\n",
    "hours=minutes/60\n",
    "hours"
   ]
  },
  {
   "cell_type": "markdown",
   "id": "bd1d7745",
   "metadata": {},
   "source": [
    "## Author\n",
    "Khushi Tibrewal"
   ]
  },
  {
   "cell_type": "code",
   "execution_count": null,
   "id": "fe6ddeb1",
   "metadata": {},
   "outputs": [],
   "source": []
  }
 ],
 "metadata": {
  "kernelspec": {
   "display_name": "Python 3 (ipykernel)",
   "language": "python",
   "name": "python3"
  },
  "language_info": {
   "codemirror_mode": {
    "name": "ipython",
    "version": 3
   },
   "file_extension": ".py",
   "mimetype": "text/x-python",
   "name": "python",
   "nbconvert_exporter": "python",
   "pygments_lexer": "ipython3",
   "version": "3.11.5"
  }
 },
 "nbformat": 4,
 "nbformat_minor": 5
}
